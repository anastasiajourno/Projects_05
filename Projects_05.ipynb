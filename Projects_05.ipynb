{
 "cells": [
  {
   "cell_type": "code",
   "execution_count": 1,
   "metadata": {},
   "outputs": [],
   "source": [
    "import pandas as pd\n",
    "import requests\n",
    "import openpyxl"
   ]
  },
  {
   "cell_type": "markdown",
   "metadata": {},
   "source": [
    "### Part 1. Vaccinations and cases in Russia per region"
   ]
  },
  {
   "cell_type": "code",
   "execution_count": 50,
   "metadata": {},
   "outputs": [],
   "source": [
    "# READ IN the vsccinations data from html\n",
    "df_vac = pd.read_html('https://gogov.ru/articles/covid-v-stats')"
   ]
  },
  {
   "cell_type": "code",
   "execution_count": 51,
   "metadata": {},
   "outputs": [
    {
     "name": "stdout",
     "output_type": "stream",
     "text": [
      "<class 'pandas.core.frame.DataFrame'>\n",
      "RangeIndex: 85 entries, 0 to 84\n",
      "Data columns (total 10 columns):\n",
      " #   Column                       Non-Null Count  Dtype  \n",
      "---  ------                       --------------  -----  \n",
      " 0   регион                       85 non-null     object \n",
      " 1   привито, чел.                85 non-null     object \n",
      " 2   % от насе-ления              85 non-null     float64\n",
      " 3   средний темп, чел./день      85 non-null     object \n",
      " 4   средний темп к нас., %       85 non-null     float64\n",
      " 5   дней до вакц. 50% нас.       85 non-null     int64  \n",
      " 6   привито двумя комп., чел.    85 non-null     object \n",
      " 7   обнов-лено                   85 non-null     float64\n",
      " 8   2 комп./1 комп.              85 non-null     object \n",
      " 9   Измене-ние средн. темпа ***  85 non-null     object \n",
      "dtypes: float64(3), int64(1), object(6)\n",
      "memory usage: 6.8+ KB\n"
     ]
    }
   ],
   "source": [
    "#FIND the right table\n",
    "df_vac[0].info()"
   ]
  },
  {
   "cell_type": "code",
   "execution_count": 52,
   "metadata": {},
   "outputs": [],
   "source": [
    "#REWRITE as df_regions\n",
    "dr_vac = df_vac[0]"
   ]
  },
  {
   "cell_type": "code",
   "execution_count": 53,
   "metadata": {},
   "outputs": [],
   "source": [
    "#TRANSLATE the column names\n",
    "dr_vac.columns=['region', 'total_vac', '%_of_pop', 'pace_p_p_d', 'pace_%_pop', 'days_50%', 'both_people', 'upd', '2/1', 'pace_chng'] "
   ]
  },
  {
   "cell_type": "code",
   "execution_count": 54,
   "metadata": {},
   "outputs": [
    {
     "data": {
      "text/html": [
       "<div>\n",
       "<style scoped>\n",
       "    .dataframe tbody tr th:only-of-type {\n",
       "        vertical-align: middle;\n",
       "    }\n",
       "\n",
       "    .dataframe tbody tr th {\n",
       "        vertical-align: top;\n",
       "    }\n",
       "\n",
       "    .dataframe thead th {\n",
       "        text-align: right;\n",
       "    }\n",
       "</style>\n",
       "<table border=\"1\" class=\"dataframe\">\n",
       "  <thead>\n",
       "    <tr style=\"text-align: right;\">\n",
       "      <th></th>\n",
       "      <th>region</th>\n",
       "      <th>total_vac</th>\n",
       "      <th>%_of_pop</th>\n",
       "      <th>pace_p_p_d</th>\n",
       "      <th>pace_%_pop</th>\n",
       "      <th>days_50%</th>\n",
       "      <th>both_people</th>\n",
       "      <th>upd</th>\n",
       "      <th>2/1</th>\n",
       "      <th>pace_chng</th>\n",
       "    </tr>\n",
       "  </thead>\n",
       "  <tbody>\n",
       "    <tr>\n",
       "      <th>83</th>\n",
       "      <td>Чукотский АО</td>\n",
       "      <td>17 000</td>\n",
       "      <td>34.32</td>\n",
       "      <td>225</td>\n",
       "      <td>0.45</td>\n",
       "      <td>35</td>\n",
       "      <td>13 600</td>\n",
       "      <td>6.07</td>\n",
       "      <td>80%</td>\n",
       "      <td>106%</td>\n",
       "    </tr>\n",
       "    <tr>\n",
       "      <th>10</th>\n",
       "      <td>Белгородская обл.</td>\n",
       "      <td>528 698</td>\n",
       "      <td>34.30</td>\n",
       "      <td>7 577</td>\n",
       "      <td>0.49</td>\n",
       "      <td>32</td>\n",
       "      <td>357 932</td>\n",
       "      <td>9.07</td>\n",
       "      <td>68%</td>\n",
       "      <td>-6%</td>\n",
       "    </tr>\n",
       "    <tr>\n",
       "      <th>1</th>\n",
       "      <td>Московская обл.</td>\n",
       "      <td>2 000 000</td>\n",
       "      <td>25.95</td>\n",
       "      <td>62 633</td>\n",
       "      <td>0.81</td>\n",
       "      <td>30</td>\n",
       "      <td>1 100 000</td>\n",
       "      <td>8.07</td>\n",
       "      <td>55%</td>\n",
       "      <td>59%</td>\n",
       "    </tr>\n",
       "    <tr>\n",
       "      <th>44</th>\n",
       "      <td>Мордовия</td>\n",
       "      <td>201 738</td>\n",
       "      <td>25.90</td>\n",
       "      <td>2 825</td>\n",
       "      <td>0.36</td>\n",
       "      <td>66</td>\n",
       "      <td>149 569</td>\n",
       "      <td>8.07</td>\n",
       "      <td>74%</td>\n",
       "      <td>12%</td>\n",
       "    </tr>\n",
       "    <tr>\n",
       "      <th>84</th>\n",
       "      <td>Ненецкий АО</td>\n",
       "      <td>11 403</td>\n",
       "      <td>25.69</td>\n",
       "      <td>111</td>\n",
       "      <td>0.25</td>\n",
       "      <td>97</td>\n",
       "      <td>9 562</td>\n",
       "      <td>8.07</td>\n",
       "      <td>84%</td>\n",
       "      <td>13%</td>\n",
       "    </tr>\n",
       "  </tbody>\n",
       "</table>\n",
       "</div>"
      ],
      "text/plain": [
       "               region  total_vac  %_of_pop pace_p_p_d  pace_%_pop  days_50%  \\\n",
       "83       Чукотский АО     17 000     34.32        225        0.45        35   \n",
       "10  Белгородская обл.    528 698     34.30      7 577        0.49        32   \n",
       "1     Московская обл.  2 000 000     25.95     62 633        0.81        30   \n",
       "44           Мордовия    201 738     25.90      2 825        0.36        66   \n",
       "84        Ненецкий АО     11 403     25.69        111        0.25        97   \n",
       "\n",
       "   both_people   upd  2/1 pace_chng  \n",
       "83      13 600  6.07  80%      106%  \n",
       "10     357 932  9.07  68%       -6%  \n",
       "1    1 100 000  8.07  55%       59%  \n",
       "44     149 569  8.07  74%       12%  \n",
       "84       9 562  8.07  84%       13%  "
      ]
     },
     "execution_count": 54,
     "metadata": {},
     "output_type": "execute_result"
    }
   ],
   "source": [
    "#SORT 5 regions with the HIGHEST % of vaccinated population \n",
    "dr_vac.sort_values(by='%_of_pop', ascending=False).head(5)"
   ]
  },
  {
   "cell_type": "code",
   "execution_count": 55,
   "metadata": {},
   "outputs": [
    {
     "data": {
      "text/html": [
       "<div>\n",
       "<style scoped>\n",
       "    .dataframe tbody tr th:only-of-type {\n",
       "        vertical-align: middle;\n",
       "    }\n",
       "\n",
       "    .dataframe tbody tr th {\n",
       "        vertical-align: top;\n",
       "    }\n",
       "\n",
       "    .dataframe thead th {\n",
       "        text-align: right;\n",
       "    }\n",
       "</style>\n",
       "<table border=\"1\" class=\"dataframe\">\n",
       "  <thead>\n",
       "    <tr style=\"text-align: right;\">\n",
       "      <th></th>\n",
       "      <th>region</th>\n",
       "      <th>total_vac</th>\n",
       "      <th>%_of_pop</th>\n",
       "      <th>pace_p_p_d</th>\n",
       "      <th>pace_%_pop</th>\n",
       "      <th>days_50%</th>\n",
       "      <th>both_people</th>\n",
       "      <th>upd</th>\n",
       "      <th>2/1</th>\n",
       "      <th>pace_chng</th>\n",
       "    </tr>\n",
       "  </thead>\n",
       "  <tbody>\n",
       "    <tr>\n",
       "      <th>59</th>\n",
       "      <td>Владимирская обл.</td>\n",
       "      <td>149 000</td>\n",
       "      <td>11.10</td>\n",
       "      <td>2 165</td>\n",
       "      <td>0.16</td>\n",
       "      <td>241</td>\n",
       "      <td>112 000</td>\n",
       "      <td>6.07</td>\n",
       "      <td>75%</td>\n",
       "      <td>30%</td>\n",
       "    </tr>\n",
       "    <tr>\n",
       "      <th>74</th>\n",
       "      <td>Северная Осетия</td>\n",
       "      <td>76 203</td>\n",
       "      <td>10.99</td>\n",
       "      <td>1 458</td>\n",
       "      <td>0.21</td>\n",
       "      <td>185</td>\n",
       "      <td>46 859</td>\n",
       "      <td>7.07</td>\n",
       "      <td>61%</td>\n",
       "      <td>14%</td>\n",
       "    </tr>\n",
       "    <tr>\n",
       "      <th>77</th>\n",
       "      <td>Адыгея</td>\n",
       "      <td>50 717</td>\n",
       "      <td>10.95</td>\n",
       "      <td>1 197</td>\n",
       "      <td>0.26</td>\n",
       "      <td>151</td>\n",
       "      <td>32 000</td>\n",
       "      <td>2.07</td>\n",
       "      <td>63%</td>\n",
       "      <td>40%</td>\n",
       "    </tr>\n",
       "    <tr>\n",
       "      <th>72</th>\n",
       "      <td>Кабардино-Балкария</td>\n",
       "      <td>78 930</td>\n",
       "      <td>9.08</td>\n",
       "      <td>1 562</td>\n",
       "      <td>0.18</td>\n",
       "      <td>228</td>\n",
       "      <td>43 284</td>\n",
       "      <td>7.07</td>\n",
       "      <td>55%</td>\n",
       "      <td>-19%</td>\n",
       "    </tr>\n",
       "    <tr>\n",
       "      <th>50</th>\n",
       "      <td>Дагестан</td>\n",
       "      <td>177 807</td>\n",
       "      <td>5.67</td>\n",
       "      <td>3 722</td>\n",
       "      <td>0.12</td>\n",
       "      <td>373</td>\n",
       "      <td>94 703</td>\n",
       "      <td>9.07</td>\n",
       "      <td>53%</td>\n",
       "      <td>51%</td>\n",
       "    </tr>\n",
       "  </tbody>\n",
       "</table>\n",
       "</div>"
      ],
      "text/plain": [
       "                region total_vac  %_of_pop pace_p_p_d  pace_%_pop  days_50%  \\\n",
       "59   Владимирская обл.   149 000     11.10      2 165        0.16       241   \n",
       "74     Северная Осетия    76 203     10.99      1 458        0.21       185   \n",
       "77              Адыгея    50 717     10.95      1 197        0.26       151   \n",
       "72  Кабардино-Балкария    78 930      9.08      1 562        0.18       228   \n",
       "50            Дагестан   177 807      5.67      3 722        0.12       373   \n",
       "\n",
       "   both_people   upd  2/1 pace_chng  \n",
       "59     112 000  6.07  75%       30%  \n",
       "74      46 859  7.07  61%       14%  \n",
       "77      32 000  2.07  63%       40%  \n",
       "72      43 284  7.07  55%      -19%  \n",
       "50      94 703  9.07  53%       51%  "
      ]
     },
     "execution_count": 55,
     "metadata": {},
     "output_type": "execute_result"
    }
   ],
   "source": [
    "#SORT 5 regions with the LOWEST % of vaccinated population \n",
    "dr_vac.sort_values(by='%_of_pop', ascending=False).tail(5)"
   ]
  },
  {
   "cell_type": "code",
   "execution_count": 56,
   "metadata": {},
   "outputs": [],
   "source": [
    "# READ IN the data on cases using read_html \n",
    "df_cases = pd.read_html('https://gogov.ru/articles/covid-19')"
   ]
  },
  {
   "cell_type": "code",
   "execution_count": 9,
   "metadata": {},
   "outputs": [
    {
     "name": "stdout",
     "output_type": "stream",
     "text": [
      "<class 'pandas.core.frame.DataFrame'>\n",
      "RangeIndex: 85 entries, 0 to 84\n",
      "Data columns (total 8 columns):\n",
      " #   Column         Non-Null Count  Dtype  \n",
      "---  ------         --------------  -----  \n",
      " 0   Регион         85 non-null     object \n",
      " 1   Всего случаев  85 non-null     object \n",
      " 2   за сутки       85 non-null     object \n",
      " 3   Коэф. распр.   85 non-null     float64\n",
      " 4   Умерло         85 non-null     object \n",
      " 5   за сутки.1     74 non-null     float64\n",
      " 6   Смерт-ность    85 non-null     object \n",
      " 7   Выздор.        85 non-null     object \n",
      "dtypes: float64(2), object(6)\n",
      "memory usage: 5.4+ KB\n"
     ]
    }
   ],
   "source": [
    "#FIND the right table\n",
    "df_cases[0].info()"
   ]
  },
  {
   "cell_type": "code",
   "execution_count": 57,
   "metadata": {},
   "outputs": [],
   "source": [
    "#REWRITE as df_regions\n",
    "df_cases = df_cases[0]"
   ]
  },
  {
   "cell_type": "code",
   "execution_count": 58,
   "metadata": {},
   "outputs": [],
   "source": [
    "#TRANSLATE the column names\n",
    "df_cases.columns=['region', 'total_cases', 'new_cases', 'distr', 'total_dead', 'new_dead', 'mortality', 'recov'] "
   ]
  },
  {
   "cell_type": "code",
   "execution_count": 12,
   "metadata": {},
   "outputs": [
    {
     "data": {
      "text/html": [
       "<div>\n",
       "<style scoped>\n",
       "    .dataframe tbody tr th:only-of-type {\n",
       "        vertical-align: middle;\n",
       "    }\n",
       "\n",
       "    .dataframe tbody tr th {\n",
       "        vertical-align: top;\n",
       "    }\n",
       "\n",
       "    .dataframe thead th {\n",
       "        text-align: right;\n",
       "    }\n",
       "</style>\n",
       "<table border=\"1\" class=\"dataframe\">\n",
       "  <thead>\n",
       "    <tr style=\"text-align: right;\">\n",
       "      <th></th>\n",
       "      <th>region</th>\n",
       "      <th>total_cases</th>\n",
       "      <th>new_cases</th>\n",
       "      <th>distr</th>\n",
       "      <th>total_dead</th>\n",
       "      <th>new_dead</th>\n",
       "      <th>mortality</th>\n",
       "      <th>recov</th>\n",
       "    </tr>\n",
       "  </thead>\n",
       "  <tbody>\n",
       "    <tr>\n",
       "      <th>21</th>\n",
       "      <td>Краснодарский край</td>\n",
       "      <td>53 534</td>\n",
       "      <td>+212</td>\n",
       "      <td>1.04</td>\n",
       "      <td>3 595</td>\n",
       "      <td>23.0</td>\n",
       "      <td>6.7%</td>\n",
       "      <td>45 825</td>\n",
       "    </tr>\n",
       "    <tr>\n",
       "      <th>61</th>\n",
       "      <td>Чувашия</td>\n",
       "      <td>27 766</td>\n",
       "      <td>+62</td>\n",
       "      <td>1.00</td>\n",
       "      <td>1 593</td>\n",
       "      <td>6.0</td>\n",
       "      <td>5.7%</td>\n",
       "      <td>25 374</td>\n",
       "    </tr>\n",
       "    <tr>\n",
       "      <th>38</th>\n",
       "      <td>Тульская обл.</td>\n",
       "      <td>43 997</td>\n",
       "      <td>+151</td>\n",
       "      <td>0.99</td>\n",
       "      <td>2 271</td>\n",
       "      <td>9.0</td>\n",
       "      <td>5.2%</td>\n",
       "      <td>39 767</td>\n",
       "    </tr>\n",
       "    <tr>\n",
       "      <th>7</th>\n",
       "      <td>Красноярский край</td>\n",
       "      <td>80 186</td>\n",
       "      <td>+385</td>\n",
       "      <td>1.24</td>\n",
       "      <td>4 034</td>\n",
       "      <td>11.0</td>\n",
       "      <td>5%</td>\n",
       "      <td>71 165</td>\n",
       "    </tr>\n",
       "    <tr>\n",
       "      <th>4</th>\n",
       "      <td>Ростовская обл.</td>\n",
       "      <td>101 467</td>\n",
       "      <td>+296</td>\n",
       "      <td>1.14</td>\n",
       "      <td>4 756</td>\n",
       "      <td>18.0</td>\n",
       "      <td>4.7%</td>\n",
       "      <td>91 239</td>\n",
       "    </tr>\n",
       "    <tr>\n",
       "      <th>19</th>\n",
       "      <td>Алтайский край</td>\n",
       "      <td>56 006</td>\n",
       "      <td>+219</td>\n",
       "      <td>1.07</td>\n",
       "      <td>2 540</td>\n",
       "      <td>14.0</td>\n",
       "      <td>4.5%</td>\n",
       "      <td>47 439</td>\n",
       "    </tr>\n",
       "    <tr>\n",
       "      <th>14</th>\n",
       "      <td>Пермский край</td>\n",
       "      <td>63 785</td>\n",
       "      <td>+354</td>\n",
       "      <td>1.20</td>\n",
       "      <td>2 785</td>\n",
       "      <td>11.0</td>\n",
       "      <td>4.4%</td>\n",
       "      <td>56 780</td>\n",
       "    </tr>\n",
       "    <tr>\n",
       "      <th>32</th>\n",
       "      <td>Новосибирская обл.</td>\n",
       "      <td>48 244</td>\n",
       "      <td>+189</td>\n",
       "      <td>1.04</td>\n",
       "      <td>2 127</td>\n",
       "      <td>8.0</td>\n",
       "      <td>4.4%</td>\n",
       "      <td>42 400</td>\n",
       "    </tr>\n",
       "    <tr>\n",
       "      <th>73</th>\n",
       "      <td>Севастополь</td>\n",
       "      <td>17 561</td>\n",
       "      <td>+115</td>\n",
       "      <td>1.00</td>\n",
       "      <td>768</td>\n",
       "      <td>4.0</td>\n",
       "      <td>4.4%</td>\n",
       "      <td>15 282</td>\n",
       "    </tr>\n",
       "    <tr>\n",
       "      <th>53</th>\n",
       "      <td>Дагестан</td>\n",
       "      <td>37 167</td>\n",
       "      <td>+183</td>\n",
       "      <td>1.06</td>\n",
       "      <td>1 569</td>\n",
       "      <td>3.0</td>\n",
       "      <td>4.2%</td>\n",
       "      <td>33 536</td>\n",
       "    </tr>\n",
       "  </tbody>\n",
       "</table>\n",
       "</div>"
      ],
      "text/plain": [
       "                region total_cases new_cases  distr total_dead  new_dead  \\\n",
       "21  Краснодарский край      53 534      +212   1.04      3 595      23.0   \n",
       "61             Чувашия      27 766       +62   1.00      1 593       6.0   \n",
       "38       Тульская обл.      43 997      +151   0.99      2 271       9.0   \n",
       "7    Красноярский край      80 186      +385   1.24      4 034      11.0   \n",
       "4      Ростовская обл.     101 467      +296   1.14      4 756      18.0   \n",
       "19      Алтайский край      56 006      +219   1.07      2 540      14.0   \n",
       "14       Пермский край      63 785      +354   1.20      2 785      11.0   \n",
       "32  Новосибирская обл.      48 244      +189   1.04      2 127       8.0   \n",
       "73         Севастополь      17 561      +115   1.00        768       4.0   \n",
       "53            Дагестан      37 167      +183   1.06      1 569       3.0   \n",
       "\n",
       "   mortality   recov  \n",
       "21      6.7%  45 825  \n",
       "61      5.7%  25 374  \n",
       "38      5.2%  39 767  \n",
       "7         5%  71 165  \n",
       "4       4.7%  91 239  \n",
       "19      4.5%  47 439  \n",
       "14      4.4%  56 780  \n",
       "32      4.4%  42 400  \n",
       "73      4.4%  15 282  \n",
       "53      4.2%  33 536  "
      ]
     },
     "execution_count": 12,
     "metadata": {},
     "output_type": "execute_result"
    }
   ],
   "source": [
    "#SORT 5 regions with the HIGHEST % of mortality \n",
    "df_cases.sort_values(by='mortality', ascending=False).head(10)"
   ]
  },
  {
   "cell_type": "code",
   "execution_count": 59,
   "metadata": {},
   "outputs": [
    {
     "data": {
      "text/html": [
       "<div>\n",
       "<style scoped>\n",
       "    .dataframe tbody tr th:only-of-type {\n",
       "        vertical-align: middle;\n",
       "    }\n",
       "\n",
       "    .dataframe tbody tr th {\n",
       "        vertical-align: top;\n",
       "    }\n",
       "\n",
       "    .dataframe thead th {\n",
       "        text-align: right;\n",
       "    }\n",
       "</style>\n",
       "<table border=\"1\" class=\"dataframe\">\n",
       "  <thead>\n",
       "    <tr style=\"text-align: right;\">\n",
       "      <th></th>\n",
       "      <th>region</th>\n",
       "      <th>total_cases</th>\n",
       "      <th>new_cases</th>\n",
       "      <th>distr</th>\n",
       "      <th>total_dead</th>\n",
       "      <th>new_dead</th>\n",
       "      <th>mortality</th>\n",
       "      <th>recov</th>\n",
       "    </tr>\n",
       "  </thead>\n",
       "  <tbody>\n",
       "    <tr>\n",
       "      <th>46</th>\n",
       "      <td>Псковская обл.</td>\n",
       "      <td>40 844</td>\n",
       "      <td>+147</td>\n",
       "      <td>1.07</td>\n",
       "      <td>497</td>\n",
       "      <td>3.0</td>\n",
       "      <td>1.2%</td>\n",
       "      <td>34 032</td>\n",
       "    </tr>\n",
       "    <tr>\n",
       "      <th>44</th>\n",
       "      <td>Ямало-Ненецкий АО</td>\n",
       "      <td>40 935</td>\n",
       "      <td>+105</td>\n",
       "      <td>1.15</td>\n",
       "      <td>438</td>\n",
       "      <td>2.0</td>\n",
       "      <td>1.1%</td>\n",
       "      <td>39 169</td>\n",
       "    </tr>\n",
       "    <tr>\n",
       "      <th>49</th>\n",
       "      <td>Калужская обл.</td>\n",
       "      <td>38 271</td>\n",
       "      <td>+108</td>\n",
       "      <td>1.12</td>\n",
       "      <td>396</td>\n",
       "      <td>NaN</td>\n",
       "      <td>1%</td>\n",
       "      <td>36 430</td>\n",
       "    </tr>\n",
       "    <tr>\n",
       "      <th>71</th>\n",
       "      <td>Карачаево-Черкесия</td>\n",
       "      <td>21 188</td>\n",
       "      <td>+44</td>\n",
       "      <td>1.40</td>\n",
       "      <td>202</td>\n",
       "      <td>3.0</td>\n",
       "      <td>1%</td>\n",
       "      <td>20 424</td>\n",
       "    </tr>\n",
       "    <tr>\n",
       "      <th>84</th>\n",
       "      <td>Чукотский АО</td>\n",
       "      <td>896</td>\n",
       "      <td>+16</td>\n",
       "      <td>1.41</td>\n",
       "      <td>8</td>\n",
       "      <td>NaN</td>\n",
       "      <td>0.9%</td>\n",
       "      <td>765</td>\n",
       "    </tr>\n",
       "    <tr>\n",
       "      <th>18</th>\n",
       "      <td>Хабаровский край</td>\n",
       "      <td>58 233</td>\n",
       "      <td>+323</td>\n",
       "      <td>1.05</td>\n",
       "      <td>522</td>\n",
       "      <td>1.0</td>\n",
       "      <td>0.9%</td>\n",
       "      <td>53 905</td>\n",
       "    </tr>\n",
       "    <tr>\n",
       "      <th>83</th>\n",
       "      <td>Ненецкий АО</td>\n",
       "      <td>1 294</td>\n",
       "      <td>+14</td>\n",
       "      <td>1.18</td>\n",
       "      <td>10</td>\n",
       "      <td>NaN</td>\n",
       "      <td>0.8%</td>\n",
       "      <td>1 175</td>\n",
       "    </tr>\n",
       "    <tr>\n",
       "      <th>34</th>\n",
       "      <td>Кировская обл.</td>\n",
       "      <td>47 763</td>\n",
       "      <td>+110</td>\n",
       "      <td>0.96</td>\n",
       "      <td>400</td>\n",
       "      <td>1.0</td>\n",
       "      <td>0.8%</td>\n",
       "      <td>45 116</td>\n",
       "    </tr>\n",
       "    <tr>\n",
       "      <th>59</th>\n",
       "      <td>Новгородская обл.</td>\n",
       "      <td>33 090</td>\n",
       "      <td>+128</td>\n",
       "      <td>1.33</td>\n",
       "      <td>187</td>\n",
       "      <td>NaN</td>\n",
       "      <td>0.6%</td>\n",
       "      <td>31 963</td>\n",
       "    </tr>\n",
       "    <tr>\n",
       "      <th>64</th>\n",
       "      <td>Сахалинская обл.</td>\n",
       "      <td>25 265</td>\n",
       "      <td>+86</td>\n",
       "      <td>1.04</td>\n",
       "      <td>77</td>\n",
       "      <td>4.0</td>\n",
       "      <td>0.3%</td>\n",
       "      <td>24 006</td>\n",
       "    </tr>\n",
       "  </tbody>\n",
       "</table>\n",
       "</div>"
      ],
      "text/plain": [
       "                region total_cases new_cases  distr total_dead  new_dead  \\\n",
       "46      Псковская обл.      40 844      +147   1.07        497       3.0   \n",
       "44   Ямало-Ненецкий АО      40 935      +105   1.15        438       2.0   \n",
       "49      Калужская обл.      38 271      +108   1.12        396       NaN   \n",
       "71  Карачаево-Черкесия      21 188       +44   1.40        202       3.0   \n",
       "84        Чукотский АО         896       +16   1.41          8       NaN   \n",
       "18    Хабаровский край      58 233      +323   1.05        522       1.0   \n",
       "83         Ненецкий АО       1 294       +14   1.18         10       NaN   \n",
       "34      Кировская обл.      47 763      +110   0.96        400       1.0   \n",
       "59   Новгородская обл.      33 090      +128   1.33        187       NaN   \n",
       "64    Сахалинская обл.      25 265       +86   1.04         77       4.0   \n",
       "\n",
       "   mortality   recov  \n",
       "46      1.2%  34 032  \n",
       "44      1.1%  39 169  \n",
       "49        1%  36 430  \n",
       "71        1%  20 424  \n",
       "84      0.9%     765  \n",
       "18      0.9%  53 905  \n",
       "83      0.8%   1 175  \n",
       "34      0.8%  45 116  \n",
       "59      0.6%  31 963  \n",
       "64      0.3%  24 006  "
      ]
     },
     "execution_count": 59,
     "metadata": {},
     "output_type": "execute_result"
    }
   ],
   "source": [
    "df_cases.sort_values(by='mortality', ascending=False).tail(10)"
   ]
  },
  {
   "cell_type": "markdown",
   "metadata": {},
   "source": [
    "### Part 2. Global data on vaccinations from Our World in Data"
   ]
  },
  {
   "cell_type": "code",
   "execution_count": 14,
   "metadata": {},
   "outputs": [],
   "source": [
    "#Sources:\n",
    "#Our world in data\n",
    "#https://ourworldindata.org/covid-vaccinations\n",
    "#https://github.com/owid/covid-19-data/tree/master/public/data"
   ]
  },
  {
   "cell_type": "code",
   "execution_count": 60,
   "metadata": {},
   "outputs": [],
   "source": [
    "df = pd.read_csv('owid-covid-data.csv')"
   ]
  },
  {
   "cell_type": "code",
   "execution_count": 61,
   "metadata": {},
   "outputs": [
    {
     "name": "stdout",
     "output_type": "stream",
     "text": [
      "<class 'pandas.core.frame.DataFrame'>\n",
      "RangeIndex: 100920 entries, 0 to 100919\n",
      "Data columns (total 60 columns):\n",
      " #   Column                                 Non-Null Count   Dtype  \n",
      "---  ------                                 --------------   -----  \n",
      " 0   iso_code                               100920 non-null  object \n",
      " 1   continent                              96197 non-null   object \n",
      " 2   location                               100920 non-null  object \n",
      " 3   date                                   100920 non-null  object \n",
      " 4   total_cases                            97187 non-null   float64\n",
      " 5   new_cases                              97184 non-null   float64\n",
      " 6   new_cases_smoothed                     96174 non-null   float64\n",
      " 7   total_deaths                           87013 non-null   float64\n",
      " 8   new_deaths                             87169 non-null   float64\n",
      " 9   new_deaths_smoothed                    96174 non-null   float64\n",
      " 10  total_cases_per_million                96670 non-null   float64\n",
      " 11  new_cases_per_million                  96667 non-null   float64\n",
      " 12  new_cases_smoothed_per_million         95662 non-null   float64\n",
      " 13  total_deaths_per_million               86509 non-null   float64\n",
      " 14  new_deaths_per_million                 86665 non-null   float64\n",
      " 15  new_deaths_smoothed_per_million        95662 non-null   float64\n",
      " 16  reproduction_rate                      81117 non-null   float64\n",
      " 17  icu_patients                           10118 non-null   float64\n",
      " 18  icu_patients_per_million               10118 non-null   float64\n",
      " 19  hosp_patients                          12568 non-null   float64\n",
      " 20  hosp_patients_per_million              12568 non-null   float64\n",
      " 21  weekly_icu_admissions                  884 non-null     float64\n",
      " 22  weekly_icu_admissions_per_million      884 non-null     float64\n",
      " 23  weekly_hosp_admissions                 1569 non-null    float64\n",
      " 24  weekly_hosp_admissions_per_million     1569 non-null    float64\n",
      " 25  new_tests                              45159 non-null   float64\n",
      " 26  total_tests                            44830 non-null   float64\n",
      " 27  total_tests_per_thousand               44830 non-null   float64\n",
      " 28  new_tests_per_thousand                 45159 non-null   float64\n",
      " 29  new_tests_smoothed                     52552 non-null   float64\n",
      " 30  new_tests_smoothed_per_thousand        52552 non-null   float64\n",
      " 31  positive_rate                          49099 non-null   float64\n",
      " 32  tests_per_case                         48501 non-null   float64\n",
      " 33  tests_units                            54225 non-null   object \n",
      " 34  total_vaccinations                     17276 non-null   float64\n",
      " 35  people_vaccinated                      16440 non-null   float64\n",
      " 36  people_fully_vaccinated                13613 non-null   float64\n",
      " 37  new_vaccinations                       14396 non-null   float64\n",
      " 38  new_vaccinations_smoothed              30139 non-null   float64\n",
      " 39  total_vaccinations_per_hundred         17276 non-null   float64\n",
      " 40  people_vaccinated_per_hundred          16440 non-null   float64\n",
      " 41  people_fully_vaccinated_per_hundred    13613 non-null   float64\n",
      " 42  new_vaccinations_smoothed_per_million  30139 non-null   float64\n",
      " 43  stringency_index                       84675 non-null   float64\n",
      " 44  population                             100269 non-null  float64\n",
      " 45  population_density                     93746 non-null   float64\n",
      " 46  median_age                             90124 non-null   float64\n",
      " 47  aged_65_older                          89112 non-null   float64\n",
      " 48  aged_70_older                          89626 non-null   float64\n",
      " 49  gdp_per_capita                         90479 non-null   float64\n",
      " 50  extreme_poverty                        61038 non-null   float64\n",
      " 51  cardiovasc_death_rate                  90493 non-null   float64\n",
      " 52  diabetes_prevalence                    92841 non-null   float64\n",
      " 53  female_smokers                         70768 non-null   float64\n",
      " 54  male_smokers                           69735 non-null   float64\n",
      " 55  handwashing_facilities                 45468 non-null   float64\n",
      " 56  hospital_beds_per_thousand             82420 non-null   float64\n",
      " 57  life_expectancy                        95837 non-null   float64\n",
      " 58  human_development_index                90631 non-null   float64\n",
      " 59  excess_mortality                       3571 non-null    float64\n",
      "dtypes: float64(55), object(5)\n",
      "memory usage: 46.2+ MB\n"
     ]
    }
   ],
   "source": [
    "df.info()"
   ]
  },
  {
   "cell_type": "code",
   "execution_count": 62,
   "metadata": {},
   "outputs": [],
   "source": [
    "pd.set_option('display.max_columns', None)"
   ]
  },
  {
   "cell_type": "code",
   "execution_count": 18,
   "metadata": {},
   "outputs": [],
   "source": [
    "#df = df.dropna(subset=['people_fully_vaccinated_per_hundred'])"
   ]
  },
  {
   "cell_type": "code",
   "execution_count": 19,
   "metadata": {},
   "outputs": [
    {
     "data": {
      "text/plain": [
       "17509          Cayman Islands\n",
       "41733                 Iceland\n",
       "95113    United Arab Emirates\n",
       "45440                  Israel\n",
       "7790                  Bahrain\n",
       "4756                    Aruba\n",
       "44936             Isle of Man\n",
       "60908                Mongolia\n",
       "96652                 Uruguay\n",
       "41236                 Hungary\n",
       "Name: location, dtype: object"
      ]
     },
     "execution_count": 19,
     "metadata": {},
     "output_type": "execute_result"
    }
   ],
   "source": [
    "#df[df['date'] == '2021-07-07'].sort_values(by='people_fully_vaccinated_per_hundred', ascending=False).head(10)['location']"
   ]
  },
  {
   "cell_type": "code",
   "execution_count": 21,
   "metadata": {},
   "outputs": [],
   "source": [
    "#FILTER the data for 1 day\n",
    "df_day = df[df['date'] == '2021-07-07']"
   ]
  },
  {
   "cell_type": "code",
   "execution_count": 22,
   "metadata": {},
   "outputs": [
    {
     "data": {
      "text/plain": [
       "<matplotlib.axes._subplots.AxesSubplot at 0x11ff187f0>"
      ]
     },
     "execution_count": 22,
     "metadata": {},
     "output_type": "execute_result"
    },
    {
     "data": {
      "image/png": "[encoded data removed]",
      "text/plain": [
       "<Figure size 432x288 with 1 Axes>"
      ]
     },
     "metadata": {
      "needs_background": "light"
     },
     "output_type": "display_data"
    }
   ],
   "source": [
    "#CALCULATE the correlation btw GDP and total vaccinations\n",
    "df_day.plot.scatter(x = 'gdp_per_capita', y = 'people_fully_vaccinated_per_hundred', s = 100, logx=True)"
   ]
  },
  {
   "cell_type": "code",
   "execution_count": 45,
   "metadata": {},
   "outputs": [
    {
     "data": {
      "text/plain": [
       "<matplotlib.axes._subplots.AxesSubplot at 0x120f0e5b0>"
      ]
     },
     "execution_count": 45,
     "metadata": {},
     "output_type": "execute_result"
    },
    {
     "data": {
      "image/png": "[encoded data removed]",
      "text/plain": [
       "<Figure size 432x288 with 1 Axes>"
      ]
     },
     "metadata": {
      "needs_background": "light"
     },
     "output_type": "display_data"
    }
   ],
   "source": [
    "#PLOT the vaccination rate for Russia \n",
    "df[(df['location']=='Russia')].plot.line(x='date', y='new_vaccinations_smoothed')"
   ]
  },
  {
   "cell_type": "code",
   "execution_count": 46,
   "metadata": {},
   "outputs": [],
   "source": [
    "#FILTER data for Russia \n",
    "df_ru = df[(df['location']=='Russia')]"
   ]
  },
  {
   "cell_type": "code",
   "execution_count": 48,
   "metadata": {},
   "outputs": [],
   "source": [
    "#SAVE as csv\n",
    "df_ru.to_csv('russia.csv')"
   ]
  },
  {
   "cell_type": "code",
   "execution_count": 24,
   "metadata": {},
   "outputs": [
    {
     "data": {
      "text/plain": [
       "<matplotlib.axes._subplots.AxesSubplot at 0x120526340>"
      ]
     },
     "execution_count": 24,
     "metadata": {},
     "output_type": "execute_result"
    },
    {
     "data": {
      "image/png": "[encoded data removed]",
      "text/plain": [
       "<Figure size 432x288 with 1 Axes>"
      ]
     },
     "metadata": {
      "needs_background": "light"
     },
     "output_type": "display_data"
    }
   ],
   "source": [
    "#df[(df['location']=='Russia')].plot.line(x='date', y='people_fully_vaccinated_per_hundred')"
   ]
  },
  {
   "cell_type": "code",
   "execution_count": 63,
   "metadata": {},
   "outputs": [],
   "source": [
    "#df[df['location']=='Israel'].plot.line(x='date', y='new_vaccinations_smoothed_per_million')"
   ]
  },
  {
   "cell_type": "code",
   "execution_count": 65,
   "metadata": {},
   "outputs": [],
   "source": [
    "#df[df['location']=='Israel'].plot.line(x='date', y='people_fully_vaccinated_per_hundred')"
   ]
  },
  {
   "cell_type": "markdown",
   "metadata": {},
   "source": [
    "### Part 3. Merge with income classification from World Bank"
   ]
  },
  {
   "cell_type": "code",
   "execution_count": 27,
   "metadata": {},
   "outputs": [],
   "source": [
    "#Source:\n",
    "#https://datahelpdesk.worldbank.org/knowledgebase/articles/906519-world-bank-country-and-lending-groups#:~:text=%EF%BB%BF%EF%BB%BF%20For%20the%20current,those%20with%20a%20GNI%20per"
   ]
  },
  {
   "cell_type": "code",
   "execution_count": 66,
   "metadata": {},
   "outputs": [],
   "source": [
    "#READ in the data with WB income classification\n",
    "income=pd.read_excel(\"wb_income.xlsx\")"
   ]
  },
  {
   "cell_type": "code",
   "execution_count": 83,
   "metadata": {},
   "outputs": [],
   "source": [
    "#income.info()"
   ]
  },
  {
   "cell_type": "code",
   "execution_count": 68,
   "metadata": {},
   "outputs": [],
   "source": [
    "#MERGE with data from OWID\n",
    "df_all = df.merge(income.add_prefix(\"wb\"), left_on='iso_code', right_on='wbCode')"
   ]
  },
  {
   "cell_type": "code",
   "execution_count": 69,
   "metadata": {},
   "outputs": [],
   "source": [
    "df_all = df_all.rename(columns={'wbIncome group': 'wbIncome_group'})"
   ]
  },
  {
   "cell_type": "code",
   "execution_count": 70,
   "metadata": {},
   "outputs": [
    {
     "name": "stdout",
     "output_type": "stream",
     "text": [
      "<class 'pandas.core.frame.DataFrame'>\n",
      "Int64Index: 94203 entries, 0 to 94202\n",
      "Data columns (total 66 columns):\n",
      " #   Column                                 Non-Null Count  Dtype  \n",
      "---  ------                                 --------------  -----  \n",
      " 0   iso_code                               94203 non-null  object \n",
      " 1   continent                              94203 non-null  object \n",
      " 2   location                               94203 non-null  object \n",
      " 3   date                                   94203 non-null  object \n",
      " 4   total_cases                            91499 non-null  float64\n",
      " 5   new_cases                              91491 non-null  float64\n",
      " 6   new_cases_smoothed                     90544 non-null  float64\n",
      " 7   total_deaths                           81988 non-null  float64\n",
      " 8   new_deaths                             81987 non-null  float64\n",
      " 9   new_deaths_smoothed                    90544 non-null  float64\n",
      " 10  total_cases_per_million                91499 non-null  float64\n",
      " 11  new_cases_per_million                  91491 non-null  float64\n",
      " 12  new_cases_smoothed_per_million         90544 non-null  float64\n",
      " 13  total_deaths_per_million               81988 non-null  float64\n",
      " 14  new_deaths_per_million                 81987 non-null  float64\n",
      " 15  new_deaths_smoothed_per_million        90544 non-null  float64\n",
      " 16  reproduction_rate                      80128 non-null  float64\n",
      " 17  icu_patients                           10118 non-null  float64\n",
      " 18  icu_patients_per_million               10118 non-null  float64\n",
      " 19  hosp_patients                          12568 non-null  float64\n",
      " 20  hosp_patients_per_million              12568 non-null  float64\n",
      " 21  weekly_icu_admissions                  884 non-null    float64\n",
      " 22  weekly_icu_admissions_per_million      884 non-null    float64\n",
      " 23  weekly_hosp_admissions                 1569 non-null   float64\n",
      " 24  weekly_hosp_admissions_per_million     1569 non-null   float64\n",
      " 25  new_tests                              45146 non-null  float64\n",
      " 26  total_tests                            44808 non-null  float64\n",
      " 27  total_tests_per_thousand               44808 non-null  float64\n",
      " 28  new_tests_per_thousand                 45146 non-null  float64\n",
      " 29  new_tests_smoothed                     52519 non-null  float64\n",
      " 30  new_tests_smoothed_per_thousand        52519 non-null  float64\n",
      " 31  positive_rate                          49066 non-null  float64\n",
      " 32  tests_per_case                         48468 non-null  float64\n",
      " 33  tests_units                            54185 non-null  object \n",
      " 34  total_vaccinations                     15554 non-null  float64\n",
      " 35  people_vaccinated                      14755 non-null  float64\n",
      " 36  people_fully_vaccinated                12107 non-null  float64\n",
      " 37  new_vaccinations                       12831 non-null  float64\n",
      " 38  new_vaccinations_smoothed              27446 non-null  float64\n",
      " 39  total_vaccinations_per_hundred         15554 non-null  float64\n",
      " 40  people_vaccinated_per_hundred          14755 non-null  float64\n",
      " 41  people_fully_vaccinated_per_hundred    12107 non-null  float64\n",
      " 42  new_vaccinations_smoothed_per_million  27446 non-null  float64\n",
      " 43  stringency_index                       84200 non-null  float64\n",
      " 44  population                             94203 non-null  float64\n",
      " 45  population_density                     92732 non-null  float64\n",
      " 46  median_age                             89591 non-null  float64\n",
      " 47  aged_65_older                          88579 non-null  float64\n",
      " 48  aged_70_older                          89093 non-null  float64\n",
      " 49  gdp_per_capita                         89465 non-null  float64\n",
      " 50  extreme_poverty                        60024 non-null  float64\n",
      " 51  cardiovasc_death_rate                  89960 non-null  float64\n",
      " 52  diabetes_prevalence                    92308 non-null  float64\n",
      " 53  female_smokers                         70235 non-null  float64\n",
      " 54  male_smokers                           69202 non-null  float64\n",
      " 55  handwashing_facilities                 44935 non-null  float64\n",
      " 56  hospital_beds_per_thousand             81887 non-null  float64\n",
      " 57  life_expectancy                        94203 non-null  float64\n",
      " 58  human_development_index                90098 non-null  float64\n",
      " 59  excess_mortality                       3558 non-null   float64\n",
      " 60  wbEconomy                              94203 non-null  object \n",
      " 61  wbCode                                 94203 non-null  object \n",
      " 62  wbRegion                               94203 non-null  object \n",
      " 63  wbIncome_group                         93722 non-null  object \n",
      " 64  wbLending category                     65839 non-null  object \n",
      " 65  wbOther (EMU or HIPC)                  28310 non-null  object \n",
      "dtypes: float64(55), object(11)\n",
      "memory usage: 48.2+ MB\n"
     ]
    }
   ],
   "source": [
    "df_all.info()"
   ]
  },
  {
   "cell_type": "code",
   "execution_count": 71,
   "metadata": {},
   "outputs": [],
   "source": [
    "#FILTER out the data for 6 July\n",
    "df_1day = df_all[df_all['date'] == '2021-07-06']"
   ]
  },
  {
   "cell_type": "code",
   "execution_count": 72,
   "metadata": {},
   "outputs": [
    {
     "name": "stdout",
     "output_type": "stream",
     "text": [
      "<class 'pandas.core.frame.DataFrame'>\n",
      "Int64Index: 198 entries, 498 to 94201\n",
      "Data columns (total 66 columns):\n",
      " #   Column                                 Non-Null Count  Dtype  \n",
      "---  ------                                 --------------  -----  \n",
      " 0   iso_code                               198 non-null    object \n",
      " 1   continent                              198 non-null    object \n",
      " 2   location                               198 non-null    object \n",
      " 3   date                                   198 non-null    object \n",
      " 4   total_cases                            190 non-null    float64\n",
      " 5   new_cases                              190 non-null    float64\n",
      " 6   new_cases_smoothed                     190 non-null    float64\n",
      " 7   total_deaths                           184 non-null    float64\n",
      " 8   new_deaths                             184 non-null    float64\n",
      " 9   new_deaths_smoothed                    190 non-null    float64\n",
      " 10  total_cases_per_million                190 non-null    float64\n",
      " 11  new_cases_per_million                  190 non-null    float64\n",
      " 12  new_cases_smoothed_per_million         190 non-null    float64\n",
      " 13  total_deaths_per_million               184 non-null    float64\n",
      " 14  new_deaths_per_million                 184 non-null    float64\n",
      " 15  new_deaths_smoothed_per_million        190 non-null    float64\n",
      " 16  reproduction_rate                      0 non-null      float64\n",
      " 17  icu_patients                           2 non-null      float64\n",
      " 18  icu_patients_per_million               2 non-null      float64\n",
      " 19  hosp_patients                          2 non-null      float64\n",
      " 20  hosp_patients_per_million              2 non-null      float64\n",
      " 21  weekly_icu_admissions                  0 non-null      float64\n",
      " 22  weekly_icu_admissions_per_million      0 non-null      float64\n",
      " 23  weekly_hosp_admissions                 0 non-null      float64\n",
      " 24  weekly_hosp_admissions_per_million     0 non-null      float64\n",
      " 25  new_tests                              19 non-null     float64\n",
      " 26  total_tests                            24 non-null     float64\n",
      " 27  total_tests_per_thousand               24 non-null     float64\n",
      " 28  new_tests_per_thousand                 19 non-null     float64\n",
      " 29  new_tests_smoothed                     23 non-null     float64\n",
      " 30  new_tests_smoothed_per_thousand        23 non-null     float64\n",
      " 31  positive_rate                          23 non-null     float64\n",
      " 32  tests_per_case                         23 non-null     float64\n",
      " 33  tests_units                            25 non-null     object \n",
      " 34  total_vaccinations                     104 non-null    float64\n",
      " 35  people_vaccinated                      103 non-null    float64\n",
      " 36  people_fully_vaccinated                99 non-null     float64\n",
      " 37  new_vaccinations                       83 non-null     float64\n",
      " 38  new_vaccinations_smoothed              114 non-null    float64\n",
      " 39  total_vaccinations_per_hundred         104 non-null    float64\n",
      " 40  people_vaccinated_per_hundred          103 non-null    float64\n",
      " 41  people_fully_vaccinated_per_hundred    99 non-null     float64\n",
      " 42  new_vaccinations_smoothed_per_million  114 non-null    float64\n",
      " 43  stringency_index                       10 non-null     float64\n",
      " 44  population                             198 non-null    float64\n",
      " 45  population_density                     195 non-null    float64\n",
      " 46  median_age                             187 non-null    float64\n",
      " 47  aged_65_older                          185 non-null    float64\n",
      " 48  aged_70_older                          186 non-null    float64\n",
      " 49  gdp_per_capita                         186 non-null    float64\n",
      " 50  extreme_poverty                        123 non-null    float64\n",
      " 51  cardiovasc_death_rate                  186 non-null    float64\n",
      " 52  diabetes_prevalence                    193 non-null    float64\n",
      " 53  female_smokers                         143 non-null    float64\n",
      " 54  male_smokers                           141 non-null    float64\n",
      " 55  handwashing_facilities                 94 non-null     float64\n",
      " 56  hospital_beds_per_thousand             167 non-null    float64\n",
      " 57  life_expectancy                        198 non-null    float64\n",
      " 58  human_development_index                186 non-null    float64\n",
      " 59  excess_mortality                       0 non-null      float64\n",
      " 60  wbEconomy                              198 non-null    object \n",
      " 61  wbCode                                 198 non-null    object \n",
      " 62  wbRegion                               198 non-null    object \n",
      " 63  wbIncome_group                         197 non-null    object \n",
      " 64  wbLending category                     138 non-null    object \n",
      " 65  wbOther (EMU or HIPC)                  58 non-null     object \n",
      "dtypes: float64(55), object(11)\n",
      "memory usage: 103.6+ KB\n"
     ]
    }
   ],
   "source": [
    "df_1day.info()"
   ]
  },
  {
   "cell_type": "code",
   "execution_count": 73,
   "metadata": {},
   "outputs": [
    {
     "data": {
      "text/plain": [
       "array(['Low income', 'Upper middle income', 'Lower middle income',\n",
       "       'High income', nan], dtype=object)"
      ]
     },
     "execution_count": 73,
     "metadata": {},
     "output_type": "execute_result"
    }
   ],
   "source": [
    "df_1day['wbIncome_group'].unique()"
   ]
  },
  {
   "cell_type": "code",
   "execution_count": 74,
   "metadata": {},
   "outputs": [],
   "source": [
    "#RENAME the cols for draft viz purposes\n",
    "df_1day = df_1day.replace(['High income', 'Upper middle income', 'Lower middle income', 'Low income'], ['1_High income','2_Upper middle income', '3_Lower middle income','4_Low income'])"
   ]
  },
  {
   "cell_type": "code",
   "execution_count": 75,
   "metadata": {},
   "outputs": [],
   "source": [
    "#OUTPUT as csv\n",
    "df_1day.to_csv('6July.csv')"
   ]
  },
  {
   "cell_type": "code",
   "execution_count": 76,
   "metadata": {},
   "outputs": [],
   "source": [
    "#FILTER the data for 15 June, the day before the reinforcements in Russia started\n",
    "df_1506 = df_all[df_all['date'] == '2021-06-15']"
   ]
  },
  {
   "cell_type": "code",
   "execution_count": 78,
   "metadata": {},
   "outputs": [
    {
     "data": {
      "text/plain": [
       "array(['Low income', 'Upper middle income', 'Lower middle income',\n",
       "       'High income', nan], dtype=object)"
      ]
     },
     "execution_count": 78,
     "metadata": {},
     "output_type": "execute_result"
    }
   ],
   "source": [
    "df_1506['wbIncome_group'].unique()"
   ]
  },
  {
   "cell_type": "code",
   "execution_count": 79,
   "metadata": {},
   "outputs": [],
   "source": [
    "#RENAME the cols\n",
    "df_1506 = df_1506.replace(['High income', 'Upper middle income', 'Lower middle income', 'Low income'], ['1_High income','2_Upper middle income', '3_Lower middle income','4_Low income'])"
   ]
  },
  {
   "cell_type": "code",
   "execution_count": 81,
   "metadata": {},
   "outputs": [],
   "source": [
    "#df_1506.info()"
   ]
  },
  {
   "cell_type": "code",
   "execution_count": 82,
   "metadata": {},
   "outputs": [],
   "source": [
    "#OUTPUT as csv\n",
    "df_1506.to_csv('15June.csv')"
   ]
  }
 ],
 "metadata": {
  "kernelspec": {
   "display_name": "Python 3",
   "language": "python",
   "name": "python3"
  },
  "language_info": {
   "codemirror_mode": {
    "name": "ipython",
    "version": 3
   },
   "file_extension": ".py",
   "mimetype": "text/x-python",
   "name": "python",
   "nbconvert_exporter": "python",
   "pygments_lexer": "ipython3",
   "version": "3.8.3"
  }
 },
 "nbformat": 4,
 "nbformat_minor": 4
}
